{
 "cells": [
  {
   "cell_type": "markdown",
   "metadata": {},
   "source": [
    "사용자의 이름, 나이, 성별을 출력하는 함수 print_info를 작성하세요. 이 때, 모든 매개변수는 키워드 매개변수로만 받도록 하세요."
   ]
  },
  {
   "cell_type": "code",
   "execution_count": 1,
   "metadata": {},
   "outputs": [
    {
     "name": "stdout",
     "output_type": "stream",
     "text": [
      "이름: 홍길동\n",
      "나이: 30\n",
      "성별: 남성\n"
     ]
    }
   ],
   "source": [
    "def print_info(name=None, age=None, gender=None):\n",
    "    if name:\n",
    "        print(f\"이름: {name}\")\n",
    "    if age:\n",
    "        print(f\"나이: {age}\")\n",
    "    if gender:\n",
    "        print(f\"성별: {gender}\")\n",
    "\n",
    "# 예시로 함수 호출\n",
    "print_info(name=\"홍길동\", age=30, gender=\"남성\")"
   ]
  },
  {
   "cell_type": "markdown",
   "metadata": {},
   "source": []
  }
 ],
 "metadata": {
  "kernelspec": {
   "display_name": "Python 3",
   "language": "python",
   "name": "python3"
  },
  "language_info": {
   "codemirror_mode": {
    "name": "ipython",
    "version": 3
   },
   "file_extension": ".py",
   "mimetype": "text/x-python",
   "name": "python",
   "nbconvert_exporter": "python",
   "pygments_lexer": "ipython3",
   "version": "3.9.6"
  }
 },
 "nbformat": 4,
 "nbformat_minor": 2
}
