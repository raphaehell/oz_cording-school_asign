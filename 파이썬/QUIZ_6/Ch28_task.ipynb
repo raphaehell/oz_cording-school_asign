{
 "cells": [
  {
   "cell_type": "markdown",
   "metadata": {},
   "source": [
    "사용자로부터 3개의 숫자를 입력받아, 이를 튜플로 만든 후 최소값과 최대값을 출력하는 함수 min_max를 작성하세요."
   ]
  },
  {
   "cell_type": "code",
   "execution_count": null,
   "metadata": {},
   "outputs": [],
   "source": [
    "def min_max():\n",
    "    # 사용자로부터 숫자 입력 받기\n",
    "    num1 = float(input(\"첫 번째 숫자를 입력하세요: \"))\n",
    "    num2 = float(input(\"두 번째 숫자를 입력하세요: \"))\n",
    "    num3 = float(input(\"세 번째 숫자를 입력하세요: \"))\n",
    "    \n",
    "    # 숫자들로 튜플 만들기\n",
    "    numbers_tuple = (num1, num2, num3)\n",
    "    \n",
    "    # 최소값과 최대값 구하기\n",
    "    min_num = min(numbers_tuple)\n",
    "    max_num = max(numbers_tuple)\n",
    "    \n",
    "    # 결과 출력\n",
    "    print(f\"입력한 숫자들: {numbers_tuple}\")\n",
    "    print(f\"최소값: {min_num}\")\n",
    "    print(f\"최대값: {max_num}\")\n",
    "\n",
    "# 함수 호출\n",
    "min_max()"
   ]
  },
  {
   "cell_type": "markdown",
   "metadata": {},
   "source": []
  }
 ],
 "metadata": {
  "language_info": {
   "name": "python"
  }
 },
 "nbformat": 4,
 "nbformat_minor": 2
}
