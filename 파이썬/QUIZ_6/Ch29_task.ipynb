{
 "cells": [
  {
   "cell_type": "markdown",
   "metadata": {},
   "source": [
    "주어진 숫자가 짝수인지 확인하는 함수 is_even을 작성하세요. 짝수라면 True를, 아니라면 False를 반환하세요. 함수 내에서 조기 리턴을 활용하세요."
   ]
  },
  {
   "cell_type": "code",
   "execution_count": 2,
   "metadata": {},
   "outputs": [
    {
     "name": "stdout",
     "output_type": "stream",
     "text": [
      "4는 짝수인가요? True\n",
      "7는 짝수인가요? False\n"
     ]
    }
   ],
   "source": [
    "def is_even(number):\n",
    "    # 숫자가 짝수인지 확인 후 True 또는 False 반환\n",
    "    return number % 2 == 0\n",
    "\n",
    "# 테스트 예시\n",
    "num1 = 4\n",
    "num2 = 7\n",
    "\n",
    "print(f\"{num1}는 짝수인가요? {is_even(num1)}\")  # 출력: 4는 짝수인가요? True\n",
    "print(f\"{num2}는 짝수인가요? {is_even(num2)}\")  # 출력: 7는 짝수인가요? False"
   ]
  },
  {
   "cell_type": "markdown",
   "metadata": {},
   "source": []
  }
 ],
 "metadata": {
  "kernelspec": {
   "display_name": "Python 3",
   "language": "python",
   "name": "python3"
  },
  "language_info": {
   "codemirror_mode": {
    "name": "ipython",
    "version": 3
   },
   "file_extension": ".py",
   "mimetype": "text/x-python",
   "name": "python",
   "nbconvert_exporter": "python",
   "pygments_lexer": "ipython3",
   "version": "3.9.6"
  }
 },
 "nbformat": 4,
 "nbformat_minor": 2
}
