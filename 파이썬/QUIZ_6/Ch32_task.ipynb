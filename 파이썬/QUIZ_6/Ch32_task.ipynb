{
 "cells": [
  {
   "cell_type": "markdown",
   "metadata": {},
   "source": [
    "두 문자열을 받아서 긴 문자열을 반환하는 함수 longer_string을 작성하세요. 만약 두 문자열의 길이가 같다면, 첫 번째 문자열을 반환하세요."
   ]
  },
  {
   "cell_type": "code",
   "execution_count": 1,
   "metadata": {},
   "outputs": [
    {
     "name": "stdout",
     "output_type": "stream",
     "text": [
      "banana\n",
      "kiwi\n",
      "grape\n"
     ]
    }
   ],
   "source": [
    "def longer_string(str1, str2):\n",
    "    if len(str1) >= len(str2):\n",
    "        return str1\n",
    "    else:\n",
    "        return str2\n",
    "\n",
    "# 테스트 예시\n",
    "string1 = \"apple\"\n",
    "string2 = \"banana\"\n",
    "print(longer_string(string1, string2))  # 출력: banana\n",
    "\n",
    "string3 = \"kiwi\"\n",
    "string4 = \"pear\"\n",
    "print(longer_string(string3, string4))  # 출력: kiwi\n",
    "\n",
    "string5 = \"grape\"\n",
    "string6 = \"melon\"\n",
    "print(longer_string(string5, string6))  # 출력: grape"
   ]
  },
  {
   "cell_type": "markdown",
   "metadata": {},
   "source": []
  }
 ],
 "metadata": {
  "kernelspec": {
   "display_name": "Python 3",
   "language": "python",
   "name": "python3"
  },
  "language_info": {
   "codemirror_mode": {
    "name": "ipython",
    "version": 3
   },
   "file_extension": ".py",
   "mimetype": "text/x-python",
   "name": "python",
   "nbconvert_exporter": "python",
   "pygments_lexer": "ipython3",
   "version": "3.9.6"
  }
 },
 "nbformat": 4,
 "nbformat_minor": 2
}
