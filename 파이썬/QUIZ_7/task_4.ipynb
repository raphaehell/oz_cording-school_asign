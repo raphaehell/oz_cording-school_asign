{
 "cells": [
  {
   "cell_type": "markdown",
   "metadata": {},
   "source": [
    "사용자 정의 예외 NegativeNumberError를 생성하고, 사용자로부터 숫자를 입력받아 음수일 경우 NegativeNumberError를 발생시키는 프로그램을 작성하세요. \n",
    "\n",
    "- 예외 처리 구문을 사용하여 음수 입력 시 \"양수를 입력해주세요.\"라는 메시지를 출력"
   ]
  },
  {
   "cell_type": "code",
   "execution_count": null,
   "metadata": {},
   "outputs": [],
   "source": [
    "# 사용자 정의 예외 클래스 NegativeNumberError 정의\n",
    "class NegativeNumberError(Exception):\n",
    "    def __init__(self, message=\"양수를 입력해주세요.\"):\n",
    "        self.message = message\n",
    "        super().__init__(self.message)\n",
    "\n",
    "def get_positive_number():\n",
    "    while True:\n",
    "        try:\n",
    "            num = float(input(\"양수를 입력하세요: \"))\n",
    "            \n",
    "            if num < 0:\n",
    "                raise NegativeNumberError  # 음수일 경우 예외 발생\n",
    "            \n",
    "            return num  # 양수인 경우 숫자 반환\n",
    "        \n",
    "        except ValueError:\n",
    "            print(\"잘못된 값: 숫자를 입력해주세요.\")\n",
    "        except NegativeNumberError as e:\n",
    "            print(e)  # NegativeNumberError 메시지 출력\n",
    "\n",
    "# 사용자로부터 양수 입력 받기\n",
    "try:\n",
    "    positive_number = get_positive_number()\n",
    "    print(f\"입력된 양수: {positive_number}\")\n",
    "except NegativeNumberError as e:\n",
    "    print(e)"
   ]
  }
 ],
 "metadata": {
  "language_info": {
   "name": "python"
  }
 },
 "nbformat": 4,
 "nbformat_minor": 2
}
