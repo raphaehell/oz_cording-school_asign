{
 "cells": [
  {
   "cell_type": "markdown",
   "metadata": {},
   "source": [
    "datetime 모듈을 사용하여 현재 날짜와 시간을 출력하는 프로그램을 작성하세요. \n",
    "\n",
    "또한, 사용자로부터 태어난 년도를 입력받아 현재 나이를 계산하여 출력하세요."
   ]
  },
  {
   "cell_type": "code",
   "execution_count": 2,
   "metadata": {},
   "outputs": [
    {
     "name": "stdout",
     "output_type": "stream",
     "text": [
      "현재 날짜와 시간: 2024-07-05 18:17:15.767915\n",
      "현재 나이: 1979세\n"
     ]
    }
   ],
   "source": [
    "import datetime\n",
    "\n",
    "def calculate_age(birth_year):\n",
    "    current_year = datetime.datetime.now().year\n",
    "    age = current_year - birth_year\n",
    "    return age\n",
    "\n",
    "# 현재 날짜와 시간 출력\n",
    "current_datetime = datetime.datetime.now()\n",
    "print(f\"현재 날짜와 시간: {current_datetime}\")\n",
    "\n",
    "# 사용자로부터 태어난 년도 입력 받기\n",
    "birth_year = int(input(\"태어난 년도를 입력하세요 (예: 1990): \"))\n",
    "\n",
    "# 나이 계산 및 출력\n",
    "age = calculate_age(birth_year)\n",
    "print(f\"현재 나이: {age}세\")"
   ]
  }
 ],
 "metadata": {
  "kernelspec": {
   "display_name": "Python 3",
   "language": "python",
   "name": "python3"
  },
  "language_info": {
   "codemirror_mode": {
    "name": "ipython",
    "version": 3
   },
   "file_extension": ".py",
   "mimetype": "text/x-python",
   "name": "python",
   "nbconvert_exporter": "python",
   "pygments_lexer": "ipython3",
   "version": "3.9.6"
  }
 },
 "nbformat": 4,
 "nbformat_minor": 2
}
