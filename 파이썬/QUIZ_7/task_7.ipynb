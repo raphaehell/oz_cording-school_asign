{
 "cells": [
  {
   "cell_type": "markdown",
   "metadata": {},
   "source": [
    "함수 실행 시간을 측정하는 데코레이터 timer_decorator를 작성하세요. \n",
    "\n",
    "임의의 함수가 실행되는 시간을 측정하여 \"함수 실행 시간: x.xx초\" 형태로 출력하세요."
   ]
  },
  {
   "cell_type": "code",
   "execution_count": 1,
   "metadata": {},
   "outputs": [
    {
     "name": "stdout",
     "output_type": "stream",
     "text": [
      "함수 실행 시간: 2.51초\n",
      "대기 후 반환: 2.5초\n"
     ]
    }
   ],
   "source": [
    "import time\n",
    "from functools import wraps\n",
    "\n",
    "def timer_decorator(func):\n",
    "    @wraps(func)\n",
    "    def wrapper(*args, **kwargs):\n",
    "        start_time = time.time()  # 함수 실행 시작 시간 측정\n",
    "        result = func(*args, **kwargs)  # 함수 실행\n",
    "        end_time = time.time()  # 함수 실행 종료 시간 측정\n",
    "        \n",
    "        execution_time = end_time - start_time  # 실행 시간 계산\n",
    "        print(f\"함수 실행 시간: {execution_time:.2f}초\")\n",
    "        \n",
    "        return result  # 함수의 반환값 반환\n",
    "    \n",
    "    return wrapper\n",
    "\n",
    "# 데코레이터를 사용할 예시 함수\n",
    "@timer_decorator\n",
    "def example_function(seconds):\n",
    "    time.sleep(seconds)  # 임의의 시간만큼 대기\n",
    "    return f\"대기 후 반환: {seconds}초\"\n",
    "\n",
    "# 예시 함수 호출\n",
    "result = example_function(2.5)\n",
    "print(result)  # 함수의 반환값 출력"
   ]
  },
  {
   "cell_type": "markdown",
   "metadata": {},
   "source": []
  }
 ],
 "metadata": {
  "kernelspec": {
   "display_name": "Python 3",
   "language": "python",
   "name": "python3"
  },
  "language_info": {
   "codemirror_mode": {
    "name": "ipython",
    "version": 3
   },
   "file_extension": ".py",
   "mimetype": "text/x-python",
   "name": "python",
   "nbconvert_exporter": "python",
   "pygments_lexer": "ipython3",
   "version": "3.9.6"
  }
 },
 "nbformat": 4,
 "nbformat_minor": 2
}
